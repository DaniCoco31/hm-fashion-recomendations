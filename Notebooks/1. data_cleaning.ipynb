{
 "cells": [
  {
   "cell_type": "code",
   "execution_count": 1,
   "metadata": {},
   "outputs": [],
   "source": [
    "from sklearn.datasets import load_iris, fetch_california_housing\n",
    "import matplotlib.pyplot as plt\n",
    "import seaborn as sns\n",
    "import pandas as pd"
   ]
  },
  {
   "cell_type": "code",
   "execution_count": 2,
   "metadata": {},
   "outputs": [],
   "source": [
    "df = pd.read_csv('../Data/df.csv')"
   ]
  },
  {
   "cell_type": "code",
   "execution_count": 3,
   "metadata": {},
   "outputs": [
    {
     "name": "stdout",
     "output_type": "stream",
     "text": [
      "        t_dat                                        customer_id  article_id  \\\n",
      "0  2018-12-17  870e1f3e107f1972e19f19365b940e0d9c9806965a58ef...   562252028   \n",
      "1  2018-11-22  9f9d4926e9d48d52fd2ee2e6736d5bdfa57f72196ed6d3...   662592002   \n",
      "\n",
      "      price  sales_channel_id club_member_status fashion_news_frequency   age  \\\n",
      "0  0.025407                 1             ACTIVE                   NONE  22.0   \n",
      "1  0.016932                 2             ACTIVE              Regularly  34.0   \n",
      "\n",
      "                                         postal_code  product_code  ...  \\\n",
      "0  07e430e18527746a3de808448ee30746851f3cf90d2a06...        562252  ...   \n",
      "1  fc5b9ef2dd60d4bca8f0c5892f9fb54580b28fe2d8e7df...        662592  ...   \n",
      "\n",
      "  department_name  index_code  index_name index_group_no  index_group_name  \\\n",
      "0         Trouser           A  Ladieswear              1        Ladieswear   \n",
      "1         Basic 1           D     Divided              2           Divided   \n",
      "\n",
      "  section_no                section_name garment_group_no  garment_group_name  \\\n",
      "0         15  Womens Everyday Collection             1009            Trousers   \n",
      "1         51              Divided Basics             1002        Jersey Basic   \n",
      "\n",
      "                                         detail_desc  \n",
      "0  Skinny-fit treggings in superstretch twill wit...  \n",
      "1  Body in ribbed jersey with a low-cut back, lon...  \n",
      "\n",
      "[2 rows x 33 columns]\n"
     ]
    }
   ],
   "source": [
    "print(df.head(2))"
   ]
  },
  {
   "cell_type": "code",
   "execution_count": 4,
   "metadata": {},
   "outputs": [
    {
     "data": {
      "text/plain": [
       "Index(['t_dat', 'customer_id', 'article_id', 'price', 'sales_channel_id',\n",
       "       'club_member_status', 'fashion_news_frequency', 'age', 'postal_code',\n",
       "       'product_code', 'prod_name', 'product_type_no', 'product_type_name',\n",
       "       'product_group_name', 'graphical_appearance_no',\n",
       "       'graphical_appearance_name', 'colour_group_code', 'colour_group_name',\n",
       "       'perceived_colour_value_id', 'perceived_colour_value_name',\n",
       "       'perceived_colour_master_id', 'perceived_colour_master_name',\n",
       "       'department_no', 'department_name', 'index_code', 'index_name',\n",
       "       'index_group_no', 'index_group_name', 'section_no', 'section_name',\n",
       "       'garment_group_no', 'garment_group_name', 'detail_desc'],\n",
       "      dtype='object')"
      ]
     },
     "execution_count": 4,
     "metadata": {},
     "output_type": "execute_result"
    }
   ],
   "source": [
    "df.columns"
   ]
  },
  {
   "cell_type": "code",
   "execution_count": 7,
   "metadata": {},
   "outputs": [],
   "source": [
    "df.drop(['club_member_status', 'fashion_news_frequency', \n",
    "       'product_group_name', 'perceived_colour_value_id', 'perceived_colour_value_name',\n",
    "       'perceived_colour_master_id', 'perceived_colour_master_name',\n",
    "       'index_group_no', 'index_group_name', \n",
    "       'garment_group_no', 'garment_group_name'], axis=1, inplace=True)"
   ]
  },
  {
   "cell_type": "code",
   "execution_count": 8,
   "metadata": {},
   "outputs": [
    {
     "data": {
      "text/plain": [
       "165"
      ]
     },
     "execution_count": 8,
     "metadata": {},
     "output_type": "execute_result"
    }
   ],
   "source": [
    "df.duplicated().sum()   "
   ]
  },
  {
   "cell_type": "code",
   "execution_count": 9,
   "metadata": {},
   "outputs": [],
   "source": [
    "df.drop_duplicates(inplace=True)"
   ]
  },
  {
   "cell_type": "code",
   "execution_count": 12,
   "metadata": {},
   "outputs": [],
   "source": [
    "df_clean = df.to_csv('../Data/df_clean.csv', index=False)"
   ]
  },
  {
   "cell_type": "markdown",
   "metadata": {},
   "source": [
    "#### Checking for anomalies"
   ]
  },
  {
   "cell_type": "code",
   "execution_count": 13,
   "metadata": {},
   "outputs": [
    {
     "name": "stdout",
     "output_type": "stream",
     "text": [
      "<class 'pandas.core.frame.DataFrame'>\n",
      "Index: 199835 entries, 0 to 199999\n",
      "Data columns (total 22 columns):\n",
      " #   Column                     Non-Null Count   Dtype  \n",
      "---  ------                     --------------   -----  \n",
      " 0   t_dat                      199835 non-null  object \n",
      " 1   customer_id                199835 non-null  object \n",
      " 2   article_id                 199835 non-null  int64  \n",
      " 3   price                      199835 non-null  float64\n",
      " 4   sales_channel_id           199835 non-null  int64  \n",
      " 5   age                        199835 non-null  float64\n",
      " 6   postal_code                199835 non-null  object \n",
      " 7   product_code               199835 non-null  int64  \n",
      " 8   prod_name                  199835 non-null  object \n",
      " 9   product_type_no            199835 non-null  int64  \n",
      " 10  product_type_name          199835 non-null  object \n",
      " 11  graphical_appearance_no    199835 non-null  int64  \n",
      " 12  graphical_appearance_name  199835 non-null  object \n",
      " 13  colour_group_code          199835 non-null  int64  \n",
      " 14  colour_group_name          199835 non-null  object \n",
      " 15  department_no              199835 non-null  int64  \n",
      " 16  department_name            199835 non-null  object \n",
      " 17  index_code                 199835 non-null  object \n",
      " 18  index_name                 199835 non-null  object \n",
      " 19  section_no                 199835 non-null  int64  \n",
      " 20  section_name               199835 non-null  object \n",
      " 21  detail_desc                199835 non-null  object \n",
      "dtypes: float64(2), int64(8), object(12)\n",
      "memory usage: 35.1+ MB\n"
     ]
    }
   ],
   "source": [
    "df.info()"
   ]
  },
  {
   "cell_type": "markdown",
   "metadata": {},
   "source": [
    "#### Quick EDA"
   ]
  },
  {
   "cell_type": "code",
   "execution_count": 14,
   "metadata": {},
   "outputs": [
    {
     "data": {
      "text/html": [
       "<div>\n",
       "<style scoped>\n",
       "    .dataframe tbody tr th:only-of-type {\n",
       "        vertical-align: middle;\n",
       "    }\n",
       "\n",
       "    .dataframe tbody tr th {\n",
       "        vertical-align: top;\n",
       "    }\n",
       "\n",
       "    .dataframe thead th {\n",
       "        text-align: right;\n",
       "    }\n",
       "</style>\n",
       "<table border=\"1\" class=\"dataframe\">\n",
       "  <thead>\n",
       "    <tr style=\"text-align: right;\">\n",
       "      <th></th>\n",
       "      <th>article_id</th>\n",
       "      <th>price</th>\n",
       "      <th>sales_channel_id</th>\n",
       "      <th>age</th>\n",
       "      <th>product_code</th>\n",
       "      <th>product_type_no</th>\n",
       "      <th>graphical_appearance_no</th>\n",
       "      <th>colour_group_code</th>\n",
       "      <th>department_no</th>\n",
       "      <th>section_no</th>\n",
       "    </tr>\n",
       "  </thead>\n",
       "  <tbody>\n",
       "    <tr>\n",
       "      <th>0</th>\n",
       "      <td>562252028</td>\n",
       "      <td>0.025407</td>\n",
       "      <td>1</td>\n",
       "      <td>22.0</td>\n",
       "      <td>562252</td>\n",
       "      <td>272</td>\n",
       "      <td>1010016</td>\n",
       "      <td>9</td>\n",
       "      <td>1722</td>\n",
       "      <td>15</td>\n",
       "    </tr>\n",
       "    <tr>\n",
       "      <th>1</th>\n",
       "      <td>662592002</td>\n",
       "      <td>0.016932</td>\n",
       "      <td>2</td>\n",
       "      <td>34.0</td>\n",
       "      <td>662592</td>\n",
       "      <td>254</td>\n",
       "      <td>1010016</td>\n",
       "      <td>9</td>\n",
       "      <td>1643</td>\n",
       "      <td>51</td>\n",
       "    </tr>\n",
       "    <tr>\n",
       "      <th>2</th>\n",
       "      <td>607031009</td>\n",
       "      <td>0.011847</td>\n",
       "      <td>2</td>\n",
       "      <td>21.0</td>\n",
       "      <td>607031</td>\n",
       "      <td>59</td>\n",
       "      <td>1010016</td>\n",
       "      <td>17</td>\n",
       "      <td>4242</td>\n",
       "      <td>60</td>\n",
       "    </tr>\n",
       "    <tr>\n",
       "      <th>3</th>\n",
       "      <td>800590003</td>\n",
       "      <td>0.076254</td>\n",
       "      <td>2</td>\n",
       "      <td>24.0</td>\n",
       "      <td>800590</td>\n",
       "      <td>245</td>\n",
       "      <td>1010016</td>\n",
       "      <td>31</td>\n",
       "      <td>1648</td>\n",
       "      <td>18</td>\n",
       "    </tr>\n",
       "    <tr>\n",
       "      <th>4</th>\n",
       "      <td>843685003</td>\n",
       "      <td>0.016932</td>\n",
       "      <td>1</td>\n",
       "      <td>33.0</td>\n",
       "      <td>843685</td>\n",
       "      <td>255</td>\n",
       "      <td>1010010</td>\n",
       "      <td>7</td>\n",
       "      <td>1676</td>\n",
       "      <td>16</td>\n",
       "    </tr>\n",
       "    <tr>\n",
       "      <th>...</th>\n",
       "      <td>...</td>\n",
       "      <td>...</td>\n",
       "      <td>...</td>\n",
       "      <td>...</td>\n",
       "      <td>...</td>\n",
       "      <td>...</td>\n",
       "      <td>...</td>\n",
       "      <td>...</td>\n",
       "      <td>...</td>\n",
       "      <td>...</td>\n",
       "    </tr>\n",
       "    <tr>\n",
       "      <th>199995</th>\n",
       "      <td>589017001</td>\n",
       "      <td>0.038593</td>\n",
       "      <td>2</td>\n",
       "      <td>20.0</td>\n",
       "      <td>589017</td>\n",
       "      <td>306</td>\n",
       "      <td>1010016</td>\n",
       "      <td>12</td>\n",
       "      <td>3710</td>\n",
       "      <td>61</td>\n",
       "    </tr>\n",
       "    <tr>\n",
       "      <th>199996</th>\n",
       "      <td>695071003</td>\n",
       "      <td>0.033881</td>\n",
       "      <td>2</td>\n",
       "      <td>37.0</td>\n",
       "      <td>695071</td>\n",
       "      <td>297</td>\n",
       "      <td>1010001</td>\n",
       "      <td>41</td>\n",
       "      <td>3709</td>\n",
       "      <td>62</td>\n",
       "    </tr>\n",
       "    <tr>\n",
       "      <th>199997</th>\n",
       "      <td>559637003</td>\n",
       "      <td>0.010153</td>\n",
       "      <td>2</td>\n",
       "      <td>31.0</td>\n",
       "      <td>559637</td>\n",
       "      <td>59</td>\n",
       "      <td>1010017</td>\n",
       "      <td>9</td>\n",
       "      <td>4242</td>\n",
       "      <td>60</td>\n",
       "    </tr>\n",
       "    <tr>\n",
       "      <th>199998</th>\n",
       "      <td>688558001</td>\n",
       "      <td>0.016542</td>\n",
       "      <td>2</td>\n",
       "      <td>32.0</td>\n",
       "      <td>688558</td>\n",
       "      <td>254</td>\n",
       "      <td>1010016</td>\n",
       "      <td>9</td>\n",
       "      <td>1643</td>\n",
       "      <td>51</td>\n",
       "    </tr>\n",
       "    <tr>\n",
       "      <th>199999</th>\n",
       "      <td>559630008</td>\n",
       "      <td>0.022864</td>\n",
       "      <td>2</td>\n",
       "      <td>51.0</td>\n",
       "      <td>559630</td>\n",
       "      <td>298</td>\n",
       "      <td>1010016</td>\n",
       "      <td>17</td>\n",
       "      <td>4242</td>\n",
       "      <td>60</td>\n",
       "    </tr>\n",
       "  </tbody>\n",
       "</table>\n",
       "<p>199835 rows × 10 columns</p>\n",
       "</div>"
      ],
      "text/plain": [
       "        article_id     price  sales_channel_id   age  product_code  \\\n",
       "0        562252028  0.025407                 1  22.0        562252   \n",
       "1        662592002  0.016932                 2  34.0        662592   \n",
       "2        607031009  0.011847                 2  21.0        607031   \n",
       "3        800590003  0.076254                 2  24.0        800590   \n",
       "4        843685003  0.016932                 1  33.0        843685   \n",
       "...            ...       ...               ...   ...           ...   \n",
       "199995   589017001  0.038593                 2  20.0        589017   \n",
       "199996   695071003  0.033881                 2  37.0        695071   \n",
       "199997   559637003  0.010153                 2  31.0        559637   \n",
       "199998   688558001  0.016542                 2  32.0        688558   \n",
       "199999   559630008  0.022864                 2  51.0        559630   \n",
       "\n",
       "        product_type_no  graphical_appearance_no  colour_group_code  \\\n",
       "0                   272                  1010016                  9   \n",
       "1                   254                  1010016                  9   \n",
       "2                    59                  1010016                 17   \n",
       "3                   245                  1010016                 31   \n",
       "4                   255                  1010010                  7   \n",
       "...                 ...                      ...                ...   \n",
       "199995              306                  1010016                 12   \n",
       "199996              297                  1010001                 41   \n",
       "199997               59                  1010017                  9   \n",
       "199998              254                  1010016                  9   \n",
       "199999              298                  1010016                 17   \n",
       "\n",
       "        department_no  section_no  \n",
       "0                1722          15  \n",
       "1                1643          51  \n",
       "2                4242          60  \n",
       "3                1648          18  \n",
       "4                1676          16  \n",
       "...               ...         ...  \n",
       "199995           3710          61  \n",
       "199996           3709          62  \n",
       "199997           4242          60  \n",
       "199998           1643          51  \n",
       "199999           4242          60  \n",
       "\n",
       "[199835 rows x 10 columns]"
      ]
     },
     "execution_count": 14,
     "metadata": {},
     "output_type": "execute_result"
    }
   ],
   "source": [
    "#your code here\n",
    "features = df.select_dtypes(include='number')\n",
    "features"
   ]
  },
  {
   "cell_type": "markdown",
   "metadata": {},
   "source": []
  },
  {
   "cell_type": "code",
   "execution_count": 15,
   "metadata": {},
   "outputs": [],
   "source": [
    "for item in features.columns:\n",
    "    features[item] = pd.to_numeric(features[item], errors='coerce')\n"
   ]
  },
  {
   "cell_type": "markdown",
   "metadata": {},
   "source": [
    "#### Train Test Split"
   ]
  },
  {
   "cell_type": "code",
   "execution_count": 16,
   "metadata": {},
   "outputs": [
    {
     "data": {
      "text/plain": [
       "Index(['t_dat', 'customer_id', 'article_id', 'price', 'sales_channel_id',\n",
       "       'age', 'postal_code', 'product_code', 'prod_name', 'product_type_no',\n",
       "       'product_type_name', 'graphical_appearance_no',\n",
       "       'graphical_appearance_name', 'colour_group_code', 'colour_group_name',\n",
       "       'department_no', 'department_name', 'index_code', 'index_name',\n",
       "       'section_no', 'section_name', 'detail_desc'],\n",
       "      dtype='object')"
      ]
     },
     "execution_count": 16,
     "metadata": {},
     "output_type": "execute_result"
    }
   ],
   "source": [
    "df.columns"
   ]
  },
  {
   "cell_type": "code",
   "execution_count": 17,
   "metadata": {},
   "outputs": [],
   "source": [
    "target = df[\"customer_id\"]"
   ]
  },
  {
   "cell_type": "code",
   "execution_count": 18,
   "metadata": {},
   "outputs": [
    {
     "data": {
      "text/html": [
       "<div>\n",
       "<style scoped>\n",
       "    .dataframe tbody tr th:only-of-type {\n",
       "        vertical-align: middle;\n",
       "    }\n",
       "\n",
       "    .dataframe tbody tr th {\n",
       "        vertical-align: top;\n",
       "    }\n",
       "\n",
       "    .dataframe thead th {\n",
       "        text-align: right;\n",
       "    }\n",
       "</style>\n",
       "<table border=\"1\" class=\"dataframe\">\n",
       "  <thead>\n",
       "    <tr style=\"text-align: right;\">\n",
       "      <th></th>\n",
       "      <th>article_id</th>\n",
       "      <th>price</th>\n",
       "      <th>sales_channel_id</th>\n",
       "      <th>age</th>\n",
       "      <th>product_code</th>\n",
       "      <th>product_type_no</th>\n",
       "      <th>graphical_appearance_no</th>\n",
       "      <th>colour_group_code</th>\n",
       "      <th>department_no</th>\n",
       "      <th>section_no</th>\n",
       "    </tr>\n",
       "  </thead>\n",
       "  <tbody>\n",
       "    <tr>\n",
       "      <th>0</th>\n",
       "      <td>562252028</td>\n",
       "      <td>0.025407</td>\n",
       "      <td>1</td>\n",
       "      <td>22.0</td>\n",
       "      <td>562252</td>\n",
       "      <td>272</td>\n",
       "      <td>1010016</td>\n",
       "      <td>9</td>\n",
       "      <td>1722</td>\n",
       "      <td>15</td>\n",
       "    </tr>\n",
       "    <tr>\n",
       "      <th>1</th>\n",
       "      <td>662592002</td>\n",
       "      <td>0.016932</td>\n",
       "      <td>2</td>\n",
       "      <td>34.0</td>\n",
       "      <td>662592</td>\n",
       "      <td>254</td>\n",
       "      <td>1010016</td>\n",
       "      <td>9</td>\n",
       "      <td>1643</td>\n",
       "      <td>51</td>\n",
       "    </tr>\n",
       "    <tr>\n",
       "      <th>2</th>\n",
       "      <td>607031009</td>\n",
       "      <td>0.011847</td>\n",
       "      <td>2</td>\n",
       "      <td>21.0</td>\n",
       "      <td>607031</td>\n",
       "      <td>59</td>\n",
       "      <td>1010016</td>\n",
       "      <td>17</td>\n",
       "      <td>4242</td>\n",
       "      <td>60</td>\n",
       "    </tr>\n",
       "    <tr>\n",
       "      <th>3</th>\n",
       "      <td>800590003</td>\n",
       "      <td>0.076254</td>\n",
       "      <td>2</td>\n",
       "      <td>24.0</td>\n",
       "      <td>800590</td>\n",
       "      <td>245</td>\n",
       "      <td>1010016</td>\n",
       "      <td>31</td>\n",
       "      <td>1648</td>\n",
       "      <td>18</td>\n",
       "    </tr>\n",
       "    <tr>\n",
       "      <th>4</th>\n",
       "      <td>843685003</td>\n",
       "      <td>0.016932</td>\n",
       "      <td>1</td>\n",
       "      <td>33.0</td>\n",
       "      <td>843685</td>\n",
       "      <td>255</td>\n",
       "      <td>1010010</td>\n",
       "      <td>7</td>\n",
       "      <td>1676</td>\n",
       "      <td>16</td>\n",
       "    </tr>\n",
       "    <tr>\n",
       "      <th>...</th>\n",
       "      <td>...</td>\n",
       "      <td>...</td>\n",
       "      <td>...</td>\n",
       "      <td>...</td>\n",
       "      <td>...</td>\n",
       "      <td>...</td>\n",
       "      <td>...</td>\n",
       "      <td>...</td>\n",
       "      <td>...</td>\n",
       "      <td>...</td>\n",
       "    </tr>\n",
       "    <tr>\n",
       "      <th>199995</th>\n",
       "      <td>589017001</td>\n",
       "      <td>0.038593</td>\n",
       "      <td>2</td>\n",
       "      <td>20.0</td>\n",
       "      <td>589017</td>\n",
       "      <td>306</td>\n",
       "      <td>1010016</td>\n",
       "      <td>12</td>\n",
       "      <td>3710</td>\n",
       "      <td>61</td>\n",
       "    </tr>\n",
       "    <tr>\n",
       "      <th>199996</th>\n",
       "      <td>695071003</td>\n",
       "      <td>0.033881</td>\n",
       "      <td>2</td>\n",
       "      <td>37.0</td>\n",
       "      <td>695071</td>\n",
       "      <td>297</td>\n",
       "      <td>1010001</td>\n",
       "      <td>41</td>\n",
       "      <td>3709</td>\n",
       "      <td>62</td>\n",
       "    </tr>\n",
       "    <tr>\n",
       "      <th>199997</th>\n",
       "      <td>559637003</td>\n",
       "      <td>0.010153</td>\n",
       "      <td>2</td>\n",
       "      <td>31.0</td>\n",
       "      <td>559637</td>\n",
       "      <td>59</td>\n",
       "      <td>1010017</td>\n",
       "      <td>9</td>\n",
       "      <td>4242</td>\n",
       "      <td>60</td>\n",
       "    </tr>\n",
       "    <tr>\n",
       "      <th>199998</th>\n",
       "      <td>688558001</td>\n",
       "      <td>0.016542</td>\n",
       "      <td>2</td>\n",
       "      <td>32.0</td>\n",
       "      <td>688558</td>\n",
       "      <td>254</td>\n",
       "      <td>1010016</td>\n",
       "      <td>9</td>\n",
       "      <td>1643</td>\n",
       "      <td>51</td>\n",
       "    </tr>\n",
       "    <tr>\n",
       "      <th>199999</th>\n",
       "      <td>559630008</td>\n",
       "      <td>0.022864</td>\n",
       "      <td>2</td>\n",
       "      <td>51.0</td>\n",
       "      <td>559630</td>\n",
       "      <td>298</td>\n",
       "      <td>1010016</td>\n",
       "      <td>17</td>\n",
       "      <td>4242</td>\n",
       "      <td>60</td>\n",
       "    </tr>\n",
       "  </tbody>\n",
       "</table>\n",
       "<p>199835 rows × 10 columns</p>\n",
       "</div>"
      ],
      "text/plain": [
       "        article_id     price  sales_channel_id   age  product_code  \\\n",
       "0        562252028  0.025407                 1  22.0        562252   \n",
       "1        662592002  0.016932                 2  34.0        662592   \n",
       "2        607031009  0.011847                 2  21.0        607031   \n",
       "3        800590003  0.076254                 2  24.0        800590   \n",
       "4        843685003  0.016932                 1  33.0        843685   \n",
       "...            ...       ...               ...   ...           ...   \n",
       "199995   589017001  0.038593                 2  20.0        589017   \n",
       "199996   695071003  0.033881                 2  37.0        695071   \n",
       "199997   559637003  0.010153                 2  31.0        559637   \n",
       "199998   688558001  0.016542                 2  32.0        688558   \n",
       "199999   559630008  0.022864                 2  51.0        559630   \n",
       "\n",
       "        product_type_no  graphical_appearance_no  colour_group_code  \\\n",
       "0                   272                  1010016                  9   \n",
       "1                   254                  1010016                  9   \n",
       "2                    59                  1010016                 17   \n",
       "3                   245                  1010016                 31   \n",
       "4                   255                  1010010                  7   \n",
       "...                 ...                      ...                ...   \n",
       "199995              306                  1010016                 12   \n",
       "199996              297                  1010001                 41   \n",
       "199997               59                  1010017                  9   \n",
       "199998              254                  1010016                  9   \n",
       "199999              298                  1010016                 17   \n",
       "\n",
       "        department_no  section_no  \n",
       "0                1722          15  \n",
       "1                1643          51  \n",
       "2                4242          60  \n",
       "3                1648          18  \n",
       "4                1676          16  \n",
       "...               ...         ...  \n",
       "199995           3710          61  \n",
       "199996           3709          62  \n",
       "199997           4242          60  \n",
       "199998           1643          51  \n",
       "199999           4242          60  \n",
       "\n",
       "[199835 rows x 10 columns]"
      ]
     },
     "execution_count": 18,
     "metadata": {},
     "output_type": "execute_result"
    }
   ],
   "source": [
    "features"
   ]
  },
  {
   "cell_type": "code",
   "execution_count": 19,
   "metadata": {},
   "outputs": [
    {
     "data": {
      "text/plain": [
       "0         870e1f3e107f1972e19f19365b940e0d9c9806965a58ef...\n",
       "1         9f9d4926e9d48d52fd2ee2e6736d5bdfa57f72196ed6d3...\n",
       "2         57d76a4cd7a0f33d0a4646ef3bc9b44812d4a93bea73db...\n",
       "3         090a071bc5788e8ecb31e4c6851f4b1022557e216e377d...\n",
       "4         985792c784c61c29985b52f18ca559ed19db4bab94c7ca...\n",
       "                                ...                        \n",
       "199995    cc7e545e2416ba987a54723e88e452280675eeae33412b...\n",
       "199996    5892fbb896678b351b8a9b5c33e9aac69df2407bb8dc10...\n",
       "199997    8e4114966b50e2196367bd0deb9efc8b57fafb1ff697fb...\n",
       "199998    0d7e8d324e428e93854bda515c629542ba4f45a0ffc0f1...\n",
       "199999    b01b6c359482d00c7e0ed9af1d54af3d061ef8c23fd233...\n",
       "Name: customer_id, Length: 199835, dtype: object"
      ]
     },
     "execution_count": 19,
     "metadata": {},
     "output_type": "execute_result"
    }
   ],
   "source": [
    "target"
   ]
  },
  {
   "cell_type": "markdown",
   "metadata": {},
   "source": [
    "Now we perform the division between Train and Test, we will reserve 20% of our data to Test."
   ]
  },
  {
   "cell_type": "code",
   "execution_count": 20,
   "metadata": {},
   "outputs": [],
   "source": [
    "from sklearn.model_selection import train_test_split\n",
    "\n",
    "\n",
    "X_train, X_test, y_train, y_test = train_test_split(features, target, test_size=0.20, random_state=0)"
   ]
  },
  {
   "cell_type": "code",
   "execution_count": null,
   "metadata": {},
   "outputs": [],
   "source": []
  },
  {
   "cell_type": "code",
   "execution_count": 21,
   "metadata": {},
   "outputs": [],
   "source": [
    "from sklearn.neighbors import KNeighborsRegressor"
   ]
  },
  {
   "cell_type": "code",
   "execution_count": 22,
   "metadata": {},
   "outputs": [],
   "source": [
    "knn = KNeighborsRegressor(n_neighbors=10)"
   ]
  },
  {
   "cell_type": "code",
   "execution_count": 23,
   "metadata": {},
   "outputs": [
    {
     "data": {
      "text/html": [
       "<style>#sk-container-id-1 {color: black;background-color: white;}#sk-container-id-1 pre{padding: 0;}#sk-container-id-1 div.sk-toggleable {background-color: white;}#sk-container-id-1 label.sk-toggleable__label {cursor: pointer;display: block;width: 100%;margin-bottom: 0;padding: 0.3em;box-sizing: border-box;text-align: center;}#sk-container-id-1 label.sk-toggleable__label-arrow:before {content: \"▸\";float: left;margin-right: 0.25em;color: #696969;}#sk-container-id-1 label.sk-toggleable__label-arrow:hover:before {color: black;}#sk-container-id-1 div.sk-estimator:hover label.sk-toggleable__label-arrow:before {color: black;}#sk-container-id-1 div.sk-toggleable__content {max-height: 0;max-width: 0;overflow: hidden;text-align: left;background-color: #f0f8ff;}#sk-container-id-1 div.sk-toggleable__content pre {margin: 0.2em;color: black;border-radius: 0.25em;background-color: #f0f8ff;}#sk-container-id-1 input.sk-toggleable__control:checked~div.sk-toggleable__content {max-height: 200px;max-width: 100%;overflow: auto;}#sk-container-id-1 input.sk-toggleable__control:checked~label.sk-toggleable__label-arrow:before {content: \"▾\";}#sk-container-id-1 div.sk-estimator input.sk-toggleable__control:checked~label.sk-toggleable__label {background-color: #d4ebff;}#sk-container-id-1 div.sk-label input.sk-toggleable__control:checked~label.sk-toggleable__label {background-color: #d4ebff;}#sk-container-id-1 input.sk-hidden--visually {border: 0;clip: rect(1px 1px 1px 1px);clip: rect(1px, 1px, 1px, 1px);height: 1px;margin: -1px;overflow: hidden;padding: 0;position: absolute;width: 1px;}#sk-container-id-1 div.sk-estimator {font-family: monospace;background-color: #f0f8ff;border: 1px dotted black;border-radius: 0.25em;box-sizing: border-box;margin-bottom: 0.5em;}#sk-container-id-1 div.sk-estimator:hover {background-color: #d4ebff;}#sk-container-id-1 div.sk-parallel-item::after {content: \"\";width: 100%;border-bottom: 1px solid gray;flex-grow: 1;}#sk-container-id-1 div.sk-label:hover label.sk-toggleable__label {background-color: #d4ebff;}#sk-container-id-1 div.sk-serial::before {content: \"\";position: absolute;border-left: 1px solid gray;box-sizing: border-box;top: 0;bottom: 0;left: 50%;z-index: 0;}#sk-container-id-1 div.sk-serial {display: flex;flex-direction: column;align-items: center;background-color: white;padding-right: 0.2em;padding-left: 0.2em;position: relative;}#sk-container-id-1 div.sk-item {position: relative;z-index: 1;}#sk-container-id-1 div.sk-parallel {display: flex;align-items: stretch;justify-content: center;background-color: white;position: relative;}#sk-container-id-1 div.sk-item::before, #sk-container-id-1 div.sk-parallel-item::before {content: \"\";position: absolute;border-left: 1px solid gray;box-sizing: border-box;top: 0;bottom: 0;left: 50%;z-index: -1;}#sk-container-id-1 div.sk-parallel-item {display: flex;flex-direction: column;z-index: 1;position: relative;background-color: white;}#sk-container-id-1 div.sk-parallel-item:first-child::after {align-self: flex-end;width: 50%;}#sk-container-id-1 div.sk-parallel-item:last-child::after {align-self: flex-start;width: 50%;}#sk-container-id-1 div.sk-parallel-item:only-child::after {width: 0;}#sk-container-id-1 div.sk-dashed-wrapped {border: 1px dashed gray;margin: 0 0.4em 0.5em 0.4em;box-sizing: border-box;padding-bottom: 0.4em;background-color: white;}#sk-container-id-1 div.sk-label label {font-family: monospace;font-weight: bold;display: inline-block;line-height: 1.2em;}#sk-container-id-1 div.sk-label-container {text-align: center;}#sk-container-id-1 div.sk-container {/* jupyter's `normalize.less` sets `[hidden] { display: none; }` but bootstrap.min.css set `[hidden] { display: none !important; }` so we also need the `!important` here to be able to override the default hidden behavior on the sphinx rendered scikit-learn.org. See: https://github.com/scikit-learn/scikit-learn/issues/21755 */display: inline-block !important;position: relative;}#sk-container-id-1 div.sk-text-repr-fallback {display: none;}</style><div id=\"sk-container-id-1\" class=\"sk-top-container\"><div class=\"sk-text-repr-fallback\"><pre>KNeighborsRegressor(n_neighbors=10)</pre><b>In a Jupyter environment, please rerun this cell to show the HTML representation or trust the notebook. <br />On GitHub, the HTML representation is unable to render, please try loading this page with nbviewer.org.</b></div><div class=\"sk-container\" hidden><div class=\"sk-item\"><div class=\"sk-estimator sk-toggleable\"><input class=\"sk-toggleable__control sk-hidden--visually\" id=\"sk-estimator-id-1\" type=\"checkbox\" checked><label for=\"sk-estimator-id-1\" class=\"sk-toggleable__label sk-toggleable__label-arrow\">KNeighborsRegressor</label><div class=\"sk-toggleable__content\"><pre>KNeighborsRegressor(n_neighbors=10)</pre></div></div></div></div></div>"
      ],
      "text/plain": [
       "KNeighborsRegressor(n_neighbors=10)"
      ]
     },
     "execution_count": 23,
     "metadata": {},
     "output_type": "execute_result"
    }
   ],
   "source": [
    "knn.fit(X_train, y_train)"
   ]
  },
  {
   "cell_type": "markdown",
   "metadata": {},
   "source": [
    "#####  We are going to evaluate our model performance with R-Squared"
   ]
  },
  {
   "cell_type": "code",
   "execution_count": 24,
   "metadata": {},
   "outputs": [
    {
     "ename": "TypeError",
     "evalue": "unsupported operand type(s) for /: 'str' and 'int'",
     "output_type": "error",
     "traceback": [
      "\u001b[0;31m---------------------------------------------------------------------------\u001b[0m",
      "\u001b[0;31mTypeError\u001b[0m                                 Traceback (most recent call last)",
      "Cell \u001b[0;32mIn[24], line 1\u001b[0m\n\u001b[0;32m----> 1\u001b[0m knn\u001b[38;5;241m.\u001b[39mscore(X_test, y_test)\n",
      "File \u001b[0;32m~/anaconda3/lib/python3.11/site-packages/sklearn/base.py:722\u001b[0m, in \u001b[0;36mRegressorMixin.score\u001b[0;34m(self, X, y, sample_weight)\u001b[0m\n\u001b[1;32m    680\u001b[0m \u001b[38;5;250m\u001b[39m\u001b[38;5;124;03m\"\"\"Return the coefficient of determination of the prediction.\u001b[39;00m\n\u001b[1;32m    681\u001b[0m \n\u001b[1;32m    682\u001b[0m \u001b[38;5;124;03mThe coefficient of determination :math:`R^2` is defined as\u001b[39;00m\n\u001b[0;32m   (...)\u001b[0m\n\u001b[1;32m    717\u001b[0m \u001b[38;5;124;03m:class:`~sklearn.multioutput.MultiOutputRegressor`).\u001b[39;00m\n\u001b[1;32m    718\u001b[0m \u001b[38;5;124;03m\"\"\"\u001b[39;00m\n\u001b[1;32m    720\u001b[0m \u001b[38;5;28;01mfrom\u001b[39;00m \u001b[38;5;21;01m.\u001b[39;00m\u001b[38;5;21;01mmetrics\u001b[39;00m \u001b[38;5;28;01mimport\u001b[39;00m r2_score\n\u001b[0;32m--> 722\u001b[0m y_pred \u001b[38;5;241m=\u001b[39m \u001b[38;5;28mself\u001b[39m\u001b[38;5;241m.\u001b[39mpredict(X)\n\u001b[1;32m    723\u001b[0m \u001b[38;5;28;01mreturn\u001b[39;00m r2_score(y, y_pred, sample_weight\u001b[38;5;241m=\u001b[39msample_weight)\n",
      "File \u001b[0;32m~/anaconda3/lib/python3.11/site-packages/sklearn/neighbors/_regression.py:248\u001b[0m, in \u001b[0;36mKNeighborsRegressor.predict\u001b[0;34m(self, X)\u001b[0m\n\u001b[1;32m    245\u001b[0m     _y \u001b[38;5;241m=\u001b[39m _y\u001b[38;5;241m.\u001b[39mreshape((\u001b[38;5;241m-\u001b[39m\u001b[38;5;241m1\u001b[39m, \u001b[38;5;241m1\u001b[39m))\n\u001b[1;32m    247\u001b[0m \u001b[38;5;28;01mif\u001b[39;00m weights \u001b[38;5;129;01mis\u001b[39;00m \u001b[38;5;28;01mNone\u001b[39;00m:\n\u001b[0;32m--> 248\u001b[0m     y_pred \u001b[38;5;241m=\u001b[39m np\u001b[38;5;241m.\u001b[39mmean(_y[neigh_ind], axis\u001b[38;5;241m=\u001b[39m\u001b[38;5;241m1\u001b[39m)\n\u001b[1;32m    249\u001b[0m \u001b[38;5;28;01melse\u001b[39;00m:\n\u001b[1;32m    250\u001b[0m     y_pred \u001b[38;5;241m=\u001b[39m np\u001b[38;5;241m.\u001b[39mempty((neigh_dist\u001b[38;5;241m.\u001b[39mshape[\u001b[38;5;241m0\u001b[39m], _y\u001b[38;5;241m.\u001b[39mshape[\u001b[38;5;241m1\u001b[39m]), dtype\u001b[38;5;241m=\u001b[39mnp\u001b[38;5;241m.\u001b[39mfloat64)\n",
      "File \u001b[0;32m~/anaconda3/lib/python3.11/site-packages/numpy/core/fromnumeric.py:3504\u001b[0m, in \u001b[0;36mmean\u001b[0;34m(a, axis, dtype, out, keepdims, where)\u001b[0m\n\u001b[1;32m   3501\u001b[0m     \u001b[38;5;28;01melse\u001b[39;00m:\n\u001b[1;32m   3502\u001b[0m         \u001b[38;5;28;01mreturn\u001b[39;00m mean(axis\u001b[38;5;241m=\u001b[39maxis, dtype\u001b[38;5;241m=\u001b[39mdtype, out\u001b[38;5;241m=\u001b[39mout, \u001b[38;5;241m*\u001b[39m\u001b[38;5;241m*\u001b[39mkwargs)\n\u001b[0;32m-> 3504\u001b[0m \u001b[38;5;28;01mreturn\u001b[39;00m _methods\u001b[38;5;241m.\u001b[39m_mean(a, axis\u001b[38;5;241m=\u001b[39maxis, dtype\u001b[38;5;241m=\u001b[39mdtype,\n\u001b[1;32m   3505\u001b[0m                       out\u001b[38;5;241m=\u001b[39mout, \u001b[38;5;241m*\u001b[39m\u001b[38;5;241m*\u001b[39mkwargs)\n",
      "File \u001b[0;32m~/anaconda3/lib/python3.11/site-packages/numpy/core/_methods.py:121\u001b[0m, in \u001b[0;36m_mean\u001b[0;34m(a, axis, dtype, out, keepdims, where)\u001b[0m\n\u001b[1;32m    119\u001b[0m \u001b[38;5;28;01mif\u001b[39;00m \u001b[38;5;28misinstance\u001b[39m(ret, mu\u001b[38;5;241m.\u001b[39mndarray):\n\u001b[1;32m    120\u001b[0m     \u001b[38;5;28;01mwith\u001b[39;00m _no_nep50_warning():\n\u001b[0;32m--> 121\u001b[0m         ret \u001b[38;5;241m=\u001b[39m um\u001b[38;5;241m.\u001b[39mtrue_divide(\n\u001b[1;32m    122\u001b[0m                 ret, rcount, out\u001b[38;5;241m=\u001b[39mret, casting\u001b[38;5;241m=\u001b[39m\u001b[38;5;124m'\u001b[39m\u001b[38;5;124munsafe\u001b[39m\u001b[38;5;124m'\u001b[39m, subok\u001b[38;5;241m=\u001b[39m\u001b[38;5;28;01mFalse\u001b[39;00m)\n\u001b[1;32m    123\u001b[0m     \u001b[38;5;28;01mif\u001b[39;00m is_float16_result \u001b[38;5;129;01mand\u001b[39;00m out \u001b[38;5;129;01mis\u001b[39;00m \u001b[38;5;28;01mNone\u001b[39;00m:\n\u001b[1;32m    124\u001b[0m         ret \u001b[38;5;241m=\u001b[39m arr\u001b[38;5;241m.\u001b[39mdtype\u001b[38;5;241m.\u001b[39mtype(ret)\n",
      "\u001b[0;31mTypeError\u001b[0m: unsupported operand type(s) for /: 'str' and 'int'"
     ]
    }
   ],
   "source": [
    "knn.score(X_test, y_test)"
   ]
  },
  {
   "cell_type": "code",
   "execution_count": null,
   "metadata": {},
   "outputs": [],
   "source": [
    "y_predict= knn.predict(X_test)"
   ]
  },
  {
   "cell_type": "code",
   "execution_count": null,
   "metadata": {},
   "outputs": [],
   "source": [
    "from sklearn.metrics import mean_squared_error, mean_absolute_error, r2_score\n",
    "\n",
    "mse_standardized = mean_squared_error(y_test, y_predict)\n",
    "mae_standardized = mean_absolute_error(y_test, y_predict)\n",
    "r2_standardized = r2_score(y_test, y_predict)\n",
    "\n",
    "mse_standardized, mae_standardized, r2_standardized"
   ]
  },
  {
   "cell_type": "code",
   "execution_count": null,
   "metadata": {},
   "outputs": [],
   "source": []
  }
 ],
 "metadata": {
  "kernelspec": {
   "display_name": "base",
   "language": "python",
   "name": "python3"
  },
  "language_info": {
   "codemirror_mode": {
    "name": "ipython",
    "version": 3
   },
   "file_extension": ".py",
   "mimetype": "text/x-python",
   "name": "python",
   "nbconvert_exporter": "python",
   "pygments_lexer": "ipython3",
   "version": "3.11.7"
  }
 },
 "nbformat": 4,
 "nbformat_minor": 2
}
